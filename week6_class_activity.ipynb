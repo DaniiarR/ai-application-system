{
  "nbformat": 4,
  "nbformat_minor": 0,
  "metadata": {
    "colab": {
      "provenance": [],
      "authorship_tag": "ABX9TyOs7FxcJb4A1aCcKaVD2DFE",
      "include_colab_link": true
    },
    "kernelspec": {
      "name": "python3",
      "display_name": "Python 3"
    },
    "language_info": {
      "name": "python"
    }
  },
  "cells": [
    {
      "cell_type": "markdown",
      "metadata": {
        "id": "view-in-github",
        "colab_type": "text"
      },
      "source": [
        "<a href=\"https://colab.research.google.com/github/DaniiarR/ai-application-system-week3/blob/main/week6_class_activity.ipynb\" target=\"_parent\"><img src=\"https://colab.research.google.com/assets/colab-badge.svg\" alt=\"Open In Colab\"/></a>"
      ]
    },
    {
      "cell_type": "code",
      "execution_count": 1,
      "metadata": {
        "id": "gj6X1Ih1O7QD"
      },
      "outputs": [],
      "source": [
        "# Import TensorFlow library\n",
        "# Source: TensorFlow official documentation import tensorflow as tf\n",
        "import tensorflow as tf"
      ]
    },
    {
      "cell_type": "code",
      "source": [
        "# Load the MNIST dataset\n",
        "# Source: TensorFlow official documentation\n",
        "mnist = tf.keras.datasets.mnist\n",
        "(train_images, train_labels), (test_images, test_labels) = mnist.load_data()"
      ],
      "metadata": {
        "colab": {
          "base_uri": "https://localhost:8080/"
        },
        "id": "cZ41e2zwPE6w",
        "outputId": "afd7e6b2-4508-4e20-9d72-03e8a171d725"
      },
      "execution_count": 4,
      "outputs": [
        {
          "output_type": "stream",
          "name": "stdout",
          "text": [
            "Downloading data from https://storage.googleapis.com/tensorflow/tf-keras-datasets/mnist.npz\n",
            "11490434/11490434 [==============================] - 0s 0us/step\n"
          ]
        }
      ]
    },
    {
      "cell_type": "code",
      "source": [
        "# Normalize the images\n",
        "# Source: TensorFlow official documentation train_images = train_images / 255.0 test_images = test_images / 255.0\n",
        "train_images = train_images / 255.0\n",
        "test_images = test_images / 255.0"
      ],
      "metadata": {
        "id": "41qJAKWpPdcU"
      },
      "execution_count": 5,
      "outputs": []
    },
    {
      "cell_type": "code",
      "source": [
        "# Build the CNN model\n",
        "# Source: TensorFlow official documentation\n",
        "model = tf.keras.Sequential([\n",
        "  tf.keras.layers.Conv2D(32, (3,3), activation='relu',\n",
        "  input_shape=(28, 28, 1)),\n",
        "  tf.keras.layers.MaxPooling2D((2, 2)),\n",
        "  tf.keras.layers.Conv2D(64, (3,3), activation='relu'),\n",
        "  tf.keras.layers.MaxPooling2D((2, 2)),\n",
        "  tf.keras.layers.Flatten(),\n",
        "  tf.keras.layers.Dense(128, activation='relu'),\n",
        "  tf.keras.layers.Dense(10, activation='softmax')\n",
        "])"
      ],
      "metadata": {
        "id": "IzgafcsfPkCt"
      },
      "execution_count": 7,
      "outputs": []
    },
    {
      "cell_type": "code",
      "source": [
        "# Compile the model\n",
        "# Source: TensorFlow official documentation\n",
        "model.compile(optimizer='adam',\n",
        "  loss='sparse_categorical_crossentropy',\n",
        "  metrics=['accuracy']\n",
        ")\n",
        "# Train the model\n",
        "# Source: TensorFlow official documentation\n",
        "model.fit(train_images , train_labels , epochs=5)"
      ],
      "metadata": {
        "colab": {
          "base_uri": "https://localhost:8080/"
        },
        "id": "Uck5fn-xQRL2",
        "outputId": "162c7231-16d2-4367-c5c0-10bff5e112d6"
      },
      "execution_count": 8,
      "outputs": [
        {
          "output_type": "stream",
          "name": "stdout",
          "text": [
            "Epoch 1/5\n",
            "1875/1875 [==============================] - 52s 27ms/step - loss: 0.1289 - accuracy: 0.9613\n",
            "Epoch 2/5\n",
            "1875/1875 [==============================] - 48s 25ms/step - loss: 0.0437 - accuracy: 0.9863\n",
            "Epoch 3/5\n",
            "1875/1875 [==============================] - 50s 27ms/step - loss: 0.0276 - accuracy: 0.9912\n",
            "Epoch 4/5\n",
            "1875/1875 [==============================] - 49s 26ms/step - loss: 0.0212 - accuracy: 0.9931\n",
            "Epoch 5/5\n",
            "1875/1875 [==============================] - 49s 26ms/step - loss: 0.0151 - accuracy: 0.9952\n"
          ]
        },
        {
          "output_type": "execute_result",
          "data": {
            "text/plain": [
              "<keras.src.callbacks.History at 0x79067758b340>"
            ]
          },
          "metadata": {},
          "execution_count": 8
        }
      ]
    },
    {
      "cell_type": "code",
      "source": [
        "# Evaluate the model\n",
        "# Source: TensorFlow official documentation\n",
        "test_loss , test_acc = model.evaluate(test_images , test_labels)"
      ],
      "metadata": {
        "colab": {
          "base_uri": "https://localhost:8080/"
        },
        "id": "Xk-nsKPWQevu",
        "outputId": "ca4020cb-69c6-4aea-8a9f-77c92cdf9f27"
      },
      "execution_count": 9,
      "outputs": [
        {
          "output_type": "stream",
          "name": "stdout",
          "text": [
            "313/313 [==============================] - 3s 8ms/step - loss: 0.0239 - accuracy: 0.9926\n"
          ]
        }
      ]
    },
    {
      "cell_type": "code",
      "source": [
        "# Save the model\n",
        "model.save('mnist_cnn_model.h5')\n",
        "# Saving the model to a HDF5 file"
      ],
      "metadata": {
        "colab": {
          "base_uri": "https://localhost:8080/"
        },
        "id": "KgpLtM8HSQ_D",
        "outputId": "822be4f6-76d0-45a5-a6c2-bee9f96c9a5c"
      },
      "execution_count": 10,
      "outputs": [
        {
          "output_type": "stream",
          "name": "stderr",
          "text": [
            "/usr/local/lib/python3.10/dist-packages/keras/src/engine/training.py:3000: UserWarning: You are saving your model as an HDF5 file via `model.save()`. This file format is considered legacy. We recommend using instead the native Keras format, e.g. `model.save('my_model.keras')`.\n",
            "  saving_api.save_model(\n"
          ]
        }
      ]
    },
    {
      "cell_type": "code",
      "source": [
        "# Load the saved model\n",
        "loaded_model = tf.keras.models.load_model('mnist_cnn_model.h5') # Loading the model from the HDF5 file"
      ],
      "metadata": {
        "id": "l3mQJmwISYez"
      },
      "execution_count": 11,
      "outputs": []
    },
    {
      "cell_type": "code",
      "source": [
        "# Evaluate the loaded model\n",
        "test_loss , test_acc = loaded_model.evaluate(test_images ,\n",
        "test_labels)\n",
        "# Evaluating the loaded model on the test data\n",
        "print(\"Test accuracy:\", test_acc) # Printing the test accuracy"
      ],
      "metadata": {
        "colab": {
          "base_uri": "https://localhost:8080/"
        },
        "id": "6AuaGF4RSdjw",
        "outputId": "ea5a714f-20a5-4509-cfea-9730a96df8c5"
      },
      "execution_count": 12,
      "outputs": [
        {
          "output_type": "stream",
          "name": "stdout",
          "text": [
            "313/313 [==============================] - 3s 9ms/step - loss: 0.0239 - accuracy: 0.9926\n",
            "Test accuracy: 0.9926000237464905\n"
          ]
        }
      ]
    }
  ]
}